{
 "cells": [
  {
   "cell_type": "markdown",
   "id": "4bafade3-c176-43fd-b872-ab25d699d5a2",
   "metadata": {},
   "source": [
    "<div style=\"width: 100%; clear: both;\">\n",
    "<div style=\"float: left; width: 50%;\">\n",
    "<img src=\"http://www.uoc.edu/portal/_resources/common/imatges/marca_UOC/UOC_Masterbrand.jpg\" align=\"left\">\n",
    "</div>\n",
    "</div>\n",
    "<div style=\"float: right; width: 50%;\">\n",
    "<p style=\"margin: 0; padding-top: 22px; text-align:right;\">M2.855 · Modelos avanzados de minería de datos</p>\n",
    "<p style=\"margin: 0; text-align:right;\">20221 - Máster universitario en Ciencias de datos (<i>Data science</i>)</p>\n",
    "<p style=\"margin: 0; text-align:right; padding-button: 100px;\">Estudios de Informática, Multimedia y Telecomunicaciones</p>\n",
    "</div>\n",
    "</div>\n",
    "<div style=\"width: 100%; clear: both;\">\n",
    "<div style=\"width:100%;\">&nbsp;</div>"
   ]
  },
  {
   "cell_type": "markdown",
   "id": "bd489d5d-766c-47e4-a529-7f80d9d5ee16",
   "metadata": {},
   "source": [
    "<div class=\"alert alert-block alert-info\">\n",
    "    <strong>Nombre y apellidos:</strong> Oriol Marco\n",
    "</div>"
   ]
  },
  {
   "cell_type": "markdown",
   "id": "90d2c462-fb20-43e7-947e-684cc47927fa",
   "metadata": {},
   "source": [
    "# PEC 1: Preparación de datos\n",
    "\n",
    "En esta práctica revisaremos y aplicaremos los conocimientos aprendidos en el **módulo 1**, donde nos centraremos en como aplicar diferentes técnicas para la carga y preparación de datos:\n",
    "\n",
    "1. Carga de un conjunto de datos\n",
    "2. Análisis de los datos\n",
    "    - Análisis estadístico básico\n",
    "    - Análisis exploratorio de los datos\n",
    "3. Reducción de la dimensionalidad\n",
    "4. Entrenamiento y test\n",
    "\n",
    "<u>Consideraciones generales</u>: \n",
    "\n",
    "- La solución planteada no puede utilizar métodos, funciones o parámetros declarados **_deprecated_** en futuras versiones, a excepción de la carga de datos cómo se indica posteriormente.\n",
    "- Esta PEC debe realizarse de forma **estrictamente individual**. Cualquier indicio de copia será penalizado con un suspenso (D) para todas las partes implicadas y la posible evaluación negativa de la asignatura de forma íntegra.\n",
    "- Es necesario que el estudiante indique **todas las fuentes** que ha utilizado para la realización de la PEC. De no ser así, se considerará que el estudiante ha cometido plagio, siendo penalizado con un suspenso (D) y la posible evaluación negativa de la asignatura de forma íntegra.\n",
    "\n",
    "<u>Formato de la entrega</u>:\n",
    "\n",
    "- Algunos ejercicios puede suponer varios minutos de ejecución, por lo que la entrega debe hacerse en **formato notebook** y en **formato html**, donde se vea el código, los resultados y comentarios de cada ejercicio. Se puede exportar el notebook a HTML desde el menú File $\\to$ Download as $\\to$ HTML.\n",
    "- Existe un tipo de celda especial para albergar texto. Este tipo de celda os será muy útil para responder a las diferentes preguntas teóricas planteadas a lo largo de la actividad. Para cambiar el tipo de celda a este tipo, en el menú: Cell $\\to$ Cell Type $\\to$ Markdown."
   ]
  },
  {
   "cell_type": "markdown",
   "id": "acbfc1ec-1ca6-46b7-8cd2-6028eb8c641b",
   "metadata": {},
   "source": [
    "## 0. Carga de librerías\n",
    "\n",
    "En la siguiente celda se deben cargar todas las librerías necesarias para la ejecución de la actividad. Se debe indicar y justificar el uso de librerías adicionales."
   ]
  },
  {
   "cell_type": "code",
   "execution_count": 1,
   "id": "fa3dc39a-edb6-4d06-b18f-f20911295347",
   "metadata": {},
   "outputs": [],
   "source": [
    "# Librerías básicas\n",
    "import numpy as np\n",
    "import pandas as pd\n",
    "import seaborn as sns\n",
    "from sklearn import datasets\n",
    "from sklearn import preprocessing\n",
    "from sklearn.manifold import TSNE\n",
    "from sklearn.decomposition import PCA\n",
    "from sklearn.ensemble import RandomForestRegressor, RandomForestClassifier\n",
    "from sklearn.metrics import mean_absolute_error, mean_squared_error, mean_absolute_percentage_error, make_scorer, accuracy_score, roc_auc_score\n",
    "from sklearn.model_selection import train_test_split, cross_val_score\n",
    "from sklearn.model_selection import validation_curve\n",
    "from sklearn.model_selection import GridSearchCV\n",
    "\n",
    "import matplotlib.pyplot as plt\n",
    "\n",
    "pd.set_option('display.max_columns', None)\n",
    "seed = 100\n",
    "\n",
    "%matplotlib inline"
   ]
  },
  {
   "cell_type": "markdown",
   "id": "69ea05d8-714f-47db-b0a5-c028cb4d8f7b",
   "metadata": {},
   "source": [
    "## 1. Carga del conjunto de datos (1 punto)\n",
    "\n",
    "En primer lugar, deberéis cargar el conjunto de datos [Diabetes dataset](https://scikit-learn.org/stable/datasets/toy_dataset.html#diabetes-dataset). \n",
    "\n",
    "Este conjunto de datos se puede descargar de Internet o puede ser cargado directamente de la librería `scikit-learn`, que incorpora un conjunto de [_datasets_](https://scikit-learn.org/stable/datasets.html) muy conocidos y empleados para minería de datos y aprendizaje automático."
   ]
  },
  {
   "cell_type": "markdown",
   "id": "1ec3b1d3-9a71-4960-bccd-95c9b7d5df28",
   "metadata": {},
   "source": [
    "<div style=\"background-color: #EDF7FF; border-color: #7C9DBF; border-left: 5px solid #7C9DBF; padding: 0.5em;\">\n",
    "<strong>Ejercicio</strong>\n",
    "</div>\n",
    "\n",
    "Cargad el conjunto de datos **Diabetes** y mostrad:\n",
    "- El número y nombre de los atributos\n",
    "- El número de filas del conjunto de datos\n",
    "- Verificad si hay _missing values_ y, en caso afirmativo, indicad en qué columnas se encuentran"
   ]
  },
  {
   "cell_type": "code",
   "execution_count": null,
   "id": "ea6e159d-3015-49c9-b120-b06ac1ef643b",
   "metadata": {},
   "outputs": [],
   "source": []
  },
  {
   "cell_type": "markdown",
   "id": "a5f183e7-f16f-4d6d-8fbe-7eb8f62668c3",
   "metadata": {},
   "source": [
    "# 2. Análisis de los datos (3 puntos)"
   ]
  },
  {
   "cell_type": "markdown",
   "id": "06c5d1bd-d207-40d4-a72c-dd0919f21bd7",
   "metadata": {},
   "source": [
    "## 2.1 Análisis estadístico básico"
   ]
  },
  {
   "cell_type": "markdown",
   "id": "78c82da1-dd10-4576-9c31-e812b64daaf3",
   "metadata": {},
   "source": [
    "<div style=\"background-color: #EDF7FF; border-color: #7C9DBF; border-left: 5px solid #7C9DBF; padding: 0.5em;\">\n",
    "<strong>Ejercicio</strong>\n",
    "</div>\n",
    "\n",
    "Realizad un análisis estadístico básico, siguiendo los criterios descritos a continución:\n",
    "- En el caso de las **variables categóricas**, realizad las siguientes operaciones para cada una de ellas:\n",
    "    - Calculad la frecuencia\n",
    "    - Haced un gráfico de barras\n",
    "- En el caso de las **variables numéricas**, realizad las siguientes operaciones para cada una de ellas:\n",
    "    - Calculad estadísticos descriptivos básicos, como la media, mediana, desviación estándard, etc.\n",
    "    - Haced un histograma de valores\n",
    "    \n",
    "**Notas**:\n",
    "- Podéis utilizar la librería `pandas` y sus funciones `describe` y  `value_counts`, así como las funciones  `bar` e `hist` de la librería `matplotlib`."
   ]
  },
  {
   "cell_type": "code",
   "execution_count": null,
   "id": "6c01d515-9c7c-4ff7-91ef-d5eeebbda8d8",
   "metadata": {},
   "outputs": [],
   "source": []
  },
  {
   "cell_type": "markdown",
   "id": "b33f6000-f6bb-4f81-9913-5a2c0dd7260b",
   "metadata": {},
   "source": [
    "<div style=\"background-color: #EDF7FF; border-color: #7C9DBF; border-left: 5px solid #7C9DBF; padding: 0.5em;\">\n",
    "<strong>Análisis</strong>\n",
    "</div>\n",
    "\n",
    "Comentad los resultados obtenidos."
   ]
  },
  {
   "cell_type": "code",
   "execution_count": null,
   "id": "9ba00c26-f3ee-436d-804b-ec457178b4fa",
   "metadata": {},
   "outputs": [],
   "source": []
  },
  {
   "cell_type": "markdown",
   "id": "340e4430-14b6-46f6-b562-40ca901edae7",
   "metadata": {},
   "source": [
    "## 2.2 Análisis exploratorio de los datos\n",
    "\n",
    "En este ejercicio exploraremos la relación de los atributos con la variable respuesta, mediante gráficos y analizando las correlaciones de los atributos numéricos."
   ]
  },
  {
   "cell_type": "code",
   "execution_count": 13,
   "id": "9f7bb1d6-ff12-45ef-a8d1-6aa12ebd544d",
   "metadata": {},
   "outputs": [
    {
     "name": "stdout",
     "output_type": "stream",
     "text": [
      "Respuesta (target)  : target\n",
      "Atributo categórico : \n",
      "Atributos numéricos : ['age', 'sex', 'bmi', 'bp', 's1', 's2', 's3', 's4', 's5', 's6']\n"
     ]
    }
   ],
   "source": [
    "response = \"target\"\n",
    "cat_feats = \"sex\"\n",
    "num_feats = ['age', 'bmi', 'bp', 's1', 's2', 's3', 's4', 's5', 's6']\n",
    "print('Respuesta (target)    :', response)\n",
    "print(\"Atributos categóricos :\", cat_feats)\n",
    "print(\"Atributos numéricos   :\", num_feats)"
   ]
  },
  {
   "cell_type": "markdown",
   "id": "431b440a-62b9-496c-b114-5284ad2f6076",
   "metadata": {},
   "source": [
    "<div style=\"background-color: #EDF7FF; border-color: #7C9DBF; border-left: 5px solid #7C9DBF; padding: 0.5em;\">\n",
    "<strong>Ejercicio</strong>\n",
    "</div>\n",
    "\n",
    "Calculad y mostrad la correlación entre todos los atributos numéricos y la variable de respuesta (o variable objetivo)."
   ]
  },
  {
   "cell_type": "code",
   "execution_count": null,
   "id": "8b1a470b-cc4e-4acf-8d9f-8baf0973022d",
   "metadata": {},
   "outputs": [],
   "source": []
  },
  {
   "cell_type": "markdown",
   "id": "8123cd80-f2e4-4ab8-ab66-6b4591e0af5c",
   "metadata": {},
   "source": [
    "<div style=\"background-color: #EDF7FF; border-color: #7C9DBF; border-left: 5px solid #7C9DBF; padding: 0.5em;\">\n",
    "<strong>Ejercicio</strong>\n",
    "</div>\n",
    "\n",
    "Representad gráficamente las relaciones entre todas las parejas de las variables numéricas (sin incluir la variable respuesta) del conjunto de datos. \n",
    "\n",
    "La finalidad de este ejercicio es poder observar y analizar las correlaciones de manera gráfica entre los pares de variables.\n",
    "\n",
    "**Notas**:\n",
    "- Podéis usar la función `pairplot` de la librería `seaborn`."
   ]
  },
  {
   "cell_type": "code",
   "execution_count": null,
   "id": "8ae7bf7e-6ce6-4038-b59f-983c83b341c5",
   "metadata": {},
   "outputs": [],
   "source": []
  },
  {
   "cell_type": "markdown",
   "id": "6f202bfd-8fa8-4ae1-b829-7f6dbb73a4a4",
   "metadata": {},
   "source": [
    "<div style=\"background-color: #EDF7FF; border-color: #7C9DBF; border-left: 5px solid #7C9DBF; padding: 0.5em;\">\n",
    "<strong>Ejercicio</strong>\n",
    "</div>\n",
    "\n",
    "Identificad los 2 atributos que tienen una **correlación más fuerte** con la variable de respuesta, y los 2 con una **correlación más débil** (considerando el coeficiente de correlación mayor o menor en valor absoluto). \n",
    "\n",
    "Para observar y analizar las correlaciones gráficamente, representad, para cada uno de los 4 atributos identificados, un _scatter plot_ con el atributo en el eje X y la respuesta en el eje Y. Además, en cada gráfico añadid la representación de una regresión lineal que aproxime los puntos.\n",
    "\n",
    "**Notas**: \n",
    "- Podéis usar la función `regplot` de la librería `seaborn`."
   ]
  },
  {
   "cell_type": "code",
   "execution_count": null,
   "id": "f137a2c2-e108-4fd4-ba74-060a72e64abb",
   "metadata": {},
   "outputs": [],
   "source": []
  },
  {
   "cell_type": "markdown",
   "id": "4684b611-955c-4d32-a704-8de8d8cf74d7",
   "metadata": {},
   "source": [
    "<div style=\"background-color: #EDF7FF; border-color: #7C9DBF; border-left: 5px solid #7C9DBF; padding: 0.5em;\">\n",
    "<strong>Análisis</strong>\n",
    "</div>\n",
    "\n",
    "Observando los gráficos, comentad brevemente si conseguís ver las altas o bajas correlaciones que habíais identificado numéricamente."
   ]
  },
  {
   "cell_type": "code",
   "execution_count": null,
   "id": "04e2499e-6da4-4272-9767-c46aa14dfe70",
   "metadata": {},
   "outputs": [],
   "source": []
  },
  {
   "cell_type": "markdown",
   "id": "991b96a1-9330-4597-a39a-8a9fb1d9c9b0",
   "metadata": {},
   "source": [
    "# 3. Reducción de la dimensionalidad (3 puntos)\n",
    "\n",
    "En este ejercicio se aplicarán métodos de reducción de la dimensionalidad al conjunto original de datos. El objetivo es reducir el conjunto de atributos a un nuevo conjunto con menos dimensiones, pero que contengan la máxima información posible presente en los atributos originales."
   ]
  },
  {
   "cell_type": "markdown",
   "id": "06360cab-7996-4191-bc00-b9246b1e8d0b",
   "metadata": {},
   "source": [
    "<div style=\"background-color: #EDF7FF; border-color: #7C9DBF; border-left: 5px solid #7C9DBF; padding: 0.5em;\">\n",
    "<strong>Ejercicio</strong>\n",
    "</div>\n",
    "\n",
    "Relizad las siguientes acciones:\n",
    "- Aplicad el método de reducción de la dimensionalidad **Principal Component Analysis** (PCA) para reducir a 2 dimensiones el dataset original que contiene todos los atributos.\n",
    "\n",
    "- Generad un **gráfico** con el resultado del PCA en el que se muestre, en función de los valores de las dos componentes en los ejes X e Y, el valor de la respuesta (_target_) usando la escala de colores. El objetivo es visualizar la variación del atributo objetivo en función de los valores de las componentes principales generadas.\n",
    "\n",
    "**Nota**: \n",
    "- Vigilad de no incluir la variable objetivo en la reducción de dimensionalidad, dado que queremos poder explicar la variable objetivo en función del resto de variables reducidas a dos dimensiones.\n",
    "- No es necesario que programéis el algoritmo de PCA, podéis usar la implementación disponible en la librería de `scikit-learn`.\n",
    "- Podéis usar el _scatter plot_ de `matplotlib` con el parámetro `c`, que indica el color de los puntos, igual a la variable objetivo para generar el gráfico."
   ]
  },
  {
   "cell_type": "code",
   "execution_count": null,
   "id": "8560572b-5868-4588-a45e-e8a13fc2ea18",
   "metadata": {},
   "outputs": [],
   "source": []
  },
  {
   "cell_type": "markdown",
   "id": "93a55b4c-de39-45fc-985b-4d6c1cc4d734",
   "metadata": {},
   "source": [
    "<div style=\"background-color: #EDF7FF; border-color: #7C9DBF; border-left: 5px solid #7C9DBF; padding: 0.5em;\">\n",
    "<strong>Ejercicio</strong>\n",
    "</div>\n",
    "\n",
    "Relizad las siguientes operaciones:\n",
    "- Repetid la reducción de dimensionalidad, pero en este caso usando **TSNE**. Podéis encontrar más información sobre este algoritmo en el link: https://distill.pub/2016/misread-tsne/\n",
    "- Igual que antes, generad un gráfico con el resultado del TSNE en el que se muestre, en función de los valores de las 2 nuevas dimensiones en los ejes X e Y, el valor de la respuesta (_target_) usando una escala de colores.\n",
    "\n",
    "**Nota**:\n",
    "- No es necesario que programéis el algoritmo TSNE, podéis usar la implementación disponible en la librería de `scikit-learn`.\n",
    "- A parte de especificar el número de componentes, probad a usar los parámetros `learning_rate` y `perplexity`.\n",
    "- Podéis usar el _scatter plot_ de `matplotlib` con el parámetro `c`, que indica el color de los puntos, igual a la variable objetivo para generar el gráfico."
   ]
  },
  {
   "cell_type": "code",
   "execution_count": null,
   "id": "c5fa68ed-ba71-456f-8a27-321ffcdd5a03",
   "metadata": {},
   "outputs": [],
   "source": []
  },
  {
   "cell_type": "markdown",
   "id": "9306947d-f957-41bb-88b7-34b742386375",
   "metadata": {},
   "source": [
    "<div style=\"background-color: #EDF7FF; border-color: #7C9DBF; border-left: 5px solid #7C9DBF; padding: 0.5em;\">\n",
    "<strong>Análisis</strong>\n",
    "</div>\n",
    "\n",
    "Observando los dos gráficos, responded a las siguinetes preguntas:\n",
    "- ¿Creéis que ha funcionado bien la reducción de dimensionalidad? ¿Os parece que las 2 nuevas dimensiones consiguen explicar la variación del atributo objetivo y visualizarlo de forma adecuada? \n",
    "- ¿Si utilizásemos las 2 nuevas variables para predecir el valor objetivo, con cuál de los dos métodos de reducción de dimensionalidad creéis que obtendríamos los mejores resultados? ¿Por qué obtenemos resultados tan diferentes con los dos métodos?"
   ]
  },
  {
   "cell_type": "code",
   "execution_count": null,
   "id": "b5b3ccbb-125f-4a5b-a3f4-773544d6bae5",
   "metadata": {},
   "outputs": [],
   "source": []
  },
  {
   "cell_type": "markdown",
   "id": "334a98e5",
   "metadata": {},
   "source": [
    "# 4 Entrenamiento y métricas (3 puntos)\n",
    "\n",
    "## 4.a Regresión\n",
    "\n",
    "En este último ejercicio se trata de aplicar un método de aprendizaje supervisado, concretamente el **Random Forest** para regresión, para predecir el valor objetivo (_target_) y evaluar la precisión obtenida con el modelo.\n",
    "\n",
    "Para eso usaremos el conjunto de datos original con todos los atributos menos la variable dependiente (target)."
   ]
  },
  {
   "cell_type": "markdown",
   "id": "6b0491d7",
   "metadata": {},
   "source": [
    "<div style=\"background-color: #EDF7FF; border-color: #7C9DBF; border-left: 5px solid #7C9DBF; padding: 0.5em;\">\n",
    "<strong>Ejercicio</strong>\n",
    "</div>\n",
    "\n",
    "Usando el conjunto de datos original:\n",
    "- Definid un modelo Random Forest (fijando `n_estimators=10` para mantener el modelo simple y `random_state=seed`).\n",
    "- Aplicad validación cruzada con el modelo definido y el dataset de train (con `cv=5` ya es suficiente).\n",
    "- Como métrica para cuantificar el error del modelo, utilizad tanto MAE (la media del error absoluto), MSE (error cuadrático medio) y MAPE (porcentaje de error absoluto medio), separadamente.\n",
    "- Calculad la media y la desviación estándard del error obtenido en cada caso.\n",
    "\n",
    "**Notas**:\n",
    "- Para entrenar un modelo random forest podéis usar `RandomForestRegressor` de `sklearn`.\n",
    "- Para aplicar validación cruzada podéis usar `cross_val_score` de `sklearn`, y modificar su parámetro `scoring` si fuese necesario."
   ]
  },
  {
   "cell_type": "code",
   "execution_count": null,
   "id": "3d2ac7d8",
   "metadata": {},
   "outputs": [],
   "source": []
  },
  {
   "cell_type": "markdown",
   "id": "3ba81e3f",
   "metadata": {},
   "source": [
    "<div style=\"background-color: #EDF7FF; border-color: #7C9DBF; border-left: 5px solid #7C9DBF; padding: 0.5em;\">\n",
    "<strong>Análisis</strong>\n",
    "</div>\n",
    "\n",
    "¿A qué se deben las diferencias numéricas entre las distintas métricas?\n",
    "\n",
    "¿Qué muestras y errores crees que pueden influir más o menos en el incremento/decremento de las distintas métricas?"
   ]
  },
  {
   "cell_type": "code",
   "execution_count": null,
   "id": "d7956b9f",
   "metadata": {},
   "outputs": [],
   "source": []
  },
  {
   "cell_type": "markdown",
   "id": "be448e61",
   "metadata": {},
   "source": [
    "## 4.b Clasificación\n",
    "\n",
    "Para este apartado se usará el conjunto de datos original pero como target (y) la variable \"sex\" (binaria, con valores 0 y 1), transformando el problema de regresión a clasificación."
   ]
  },
  {
   "cell_type": "markdown",
   "id": "fce2575f",
   "metadata": {},
   "source": [
    "<div style=\"background-color: #EDF7FF; border-color: #7C9DBF; border-left: 5px solid #7C9DBF; padding: 0.5em;\">\n",
    "<strong>Ejercicio</strong>\n",
    "</div>\n",
    "\n",
    "Genera el conjunto de variables independientes _X_ con los datos originales pero sin la variable _target_ ni _sex_ (será la nueva variable dependiente).\n",
    "\n",
    "Genera la variable dependiente _y_ como un array de tipo _int_ que contenga el sexo asociado a cada fila para ser predicho."
   ]
  },
  {
   "cell_type": "code",
   "execution_count": null,
   "id": "582750b5",
   "metadata": {},
   "outputs": [],
   "source": []
  },
  {
   "cell_type": "markdown",
   "id": "4c8c574f",
   "metadata": {},
   "source": [
    "<div style=\"background-color: #EDF7FF; border-color: #7C9DBF; border-left: 5px solid #7C9DBF; padding: 0.5em;\">\n",
    "<strong>Ejercicio</strong>\n",
    "</div>\n",
    "\n",
    "- Definid un modelo Random Forest (fijando `n_estimators=10` para mantener el modelo simple y `random_state=seed`).\n",
    "- Aplicad validación cruzada con el modelo definido y el dataset de train (con `cv=5` ya es suficiente).\n",
    "- Como métrica para cuantificar el error del modelo, utilizad tanto accuracy como roc_auc.\n",
    "- Calculad la media y la desviación estándard de las métricas obtenidas en cada caso.\n",
    "\n",
    "**Notas**:\n",
    "- Para entrenar un modelo random forest podéis usar `RandomForestClassifier` de `sklearn`.\n",
    "- Para aplicar validación cruzada podéis usar `cross_val_score` de `sklearn`, y modificar su parámetro `scoring` si fuese necesario."
   ]
  },
  {
   "cell_type": "code",
   "execution_count": null,
   "id": "9ad86acf",
   "metadata": {},
   "outputs": [],
   "source": []
  },
  {
   "cell_type": "markdown",
   "id": "4d5e3482",
   "metadata": {},
   "source": [
    "<div style=\"background-color: #EDF7FF; border-color: #7C9DBF; border-left: 5px solid #7C9DBF; padding: 0.5em;\">\n",
    "<strong>Análisis</strong>\n",
    "</div>\n",
    "\n",
    "Si los valores de la columna _sex_ estuviesen desbalanceados con un 99% de ceros y un 1% de unos.\n",
    "\n",
    "Para las dos métricas anteriores, ¿qué score obtendríamos con un modelo que siempre indicase 0?"
   ]
  },
  {
   "cell_type": "code",
   "execution_count": null,
   "id": "9f1c4133",
   "metadata": {},
   "outputs": [],
   "source": []
  }
 ],
 "metadata": {
  "kernelspec": {
   "display_name": "Python 3.9.7 ('uoc20221pec1')",
   "language": "python",
   "name": "python3"
  },
  "language_info": {
   "codemirror_mode": {
    "name": "ipython",
    "version": 3
   },
   "file_extension": ".py",
   "mimetype": "text/x-python",
   "name": "python",
   "nbconvert_exporter": "python",
   "pygments_lexer": "ipython3",
   "version": "3.9.7"
  },
  "vscode": {
   "interpreter": {
    "hash": "663bdcd2ad4a6f6a38545b272ee40b543a19fac9ff837e7875c451709705e795"
   }
  }
 },
 "nbformat": 4,
 "nbformat_minor": 5
}
